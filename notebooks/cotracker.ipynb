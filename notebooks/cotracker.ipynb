{
 "cells": [
  {
   "cell_type": "code",
   "execution_count": 2,
   "metadata": {},
   "outputs": [
    {
     "name": "stdout",
     "output_type": "stream",
     "text": [
      "filename: /scr/shared/datasets/LIBERO/libero_10_highres_mp4/VID-DEMO_0_KITCHEN_SCENE3_turn_on_the_stove_and_put_the_moka_pot_on_it_demo.mp4\n",
      "gripper_x: 104.0\n",
      "gripper_y: 42.0\n",
      "height: 256\n",
      "num_frames: 272\n",
      "width: 256\n",
      "cumulative_displacements shape: (272, 2)\n",
      "displacements shape: (272, 2)\n",
      "positions shape: (272, 2)\n",
      "positions_normalized shape: (272, 2)\n",
      "visibility shape: (272,)\n"
     ]
    }
   ],
   "source": [
    "import h5py\n",
    "\n",
    "# Open the file\n",
    "with h5py.File('/scr/shared/datasets/LIBERO/libero_10_2D/VID-DEMO_0_KITCHEN_SCENE3_turn_on_the_stove_and_put_the_moka_pot_on_it_demo_2D.hdf5', 'r') as f:\n",
    "    # Print the metadata\n",
    "    metadata = f['metadata']\n",
    "    for key in metadata.attrs:\n",
    "        print(f\"{key}: {metadata.attrs[key]}\")\n",
    "    \n",
    "    # Access the tracking data\n",
    "    tracking = f['tracking']\n",
    "    displacements = tracking['displacements'][:]\n",
    "    \n",
    "    # Print the shape of each dataset\n",
    "    for dataset_name in tracking.keys():\n",
    "        print(f\"{dataset_name} shape: {tracking[dataset_name].shape}\")"
   ]
  },
  {
   "cell_type": "code",
   "execution_count": null,
   "metadata": {},
   "outputs": [],
   "source": []
  }
 ],
 "metadata": {
  "kernelspec": {
   "display_name": "molmo",
   "language": "python",
   "name": "python3"
  },
  "language_info": {
   "codemirror_mode": {
    "name": "ipython",
    "version": 3
   },
   "file_extension": ".py",
   "mimetype": "text/x-python",
   "name": "python",
   "nbconvert_exporter": "python",
   "pygments_lexer": "ipython3",
   "version": "3.10.16"
  }
 },
 "nbformat": 4,
 "nbformat_minor": 2
}
